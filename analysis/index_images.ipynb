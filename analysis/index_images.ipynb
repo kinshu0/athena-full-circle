{
 "cells": [
  {
   "cell_type": "code",
   "execution_count": 2,
   "metadata": {},
   "outputs": [],
   "source": [
    "from pathlib import Path\n",
    "import pandas as pd"
   ]
  },
  {
   "cell_type": "code",
   "execution_count": 3,
   "metadata": {},
   "outputs": [],
   "source": [
    "images_path = Path('../image_downloader/images/')"
   ]
  },
  {
   "cell_type": "code",
   "execution_count": 3,
   "metadata": {},
   "outputs": [
    {
     "name": "stdout",
     "output_type": "stream",
     "text": [
      "path='../image_downloader/images/2025-04-20/1745143200_MC_DHPOS.jpg'\n",
      "date_folder='2025-04-20'\n",
      "filename='1745143200_MC_DHPOS.jpg'\n",
      "timestamp='1745143200'\n",
      "location='MC_DHPOS'\n"
     ]
    }
   ],
   "source": [
    "for p in images_path.rglob('*/*'):\n",
    "    path = str(p)\n",
    "    date_folder = p.parts[-2]\n",
    "    filename = p.parts[-1]\n",
    "    timestamp, location = filename.split('_', 1)\n",
    "    location = location.split('.')[0]\n",
    "\n",
    "    print(f'{path=}')\n",
    "    print(f'{date_folder=}')\n",
    "    print(f'{filename=}')\n",
    "    print(f'{timestamp=}')\n",
    "    print(f'{location=}')\n",
    "\n",
    "    break"
   ]
  },
  {
   "cell_type": "code",
   "execution_count": 4,
   "metadata": {},
   "outputs": [],
   "source": [
    "records = []\n",
    "\n",
    "for p in images_path.rglob('*/*'):\n",
    "    path = str(p)\n",
    "    date_folder = p.parts[-2]\n",
    "    filename = p.parts[-1]\n",
    "    timestamp, location = filename.split('_', 1)\n",
    "    location = location.split('.')[0]\n",
    "\n",
    "    records.append({\n",
    "        'path': p,\n",
    "        'date_folder': date_folder,\n",
    "        'timestamp': timestamp,\n",
    "        'location': location,\n",
    "    })\n",
    "\n",
    "df = pd.DataFrame.from_records(records)"
   ]
  },
  {
   "cell_type": "code",
   "execution_count": 5,
   "metadata": {},
   "outputs": [
    {
     "data": {
      "text/html": [
       "<div>\n",
       "<style scoped>\n",
       "    .dataframe tbody tr th:only-of-type {\n",
       "        vertical-align: middle;\n",
       "    }\n",
       "\n",
       "    .dataframe tbody tr th {\n",
       "        vertical-align: top;\n",
       "    }\n",
       "\n",
       "    .dataframe thead th {\n",
       "        text-align: right;\n",
       "    }\n",
       "</style>\n",
       "<table border=\"1\" class=\"dataframe\">\n",
       "  <thead>\n",
       "    <tr style=\"text-align: right;\">\n",
       "      <th></th>\n",
       "      <th>path</th>\n",
       "      <th>date_folder</th>\n",
       "      <th>timestamp</th>\n",
       "      <th>location</th>\n",
       "    </tr>\n",
       "  </thead>\n",
       "  <tbody>\n",
       "    <tr>\n",
       "      <th>0</th>\n",
       "      <td>../image_downloader/images/2025-04-20/17451432...</td>\n",
       "      <td>2025-04-20</td>\n",
       "      <td>1745143200</td>\n",
       "      <td>MC_DHPOS</td>\n",
       "    </tr>\n",
       "    <tr>\n",
       "      <th>1</th>\n",
       "      <td>../image_downloader/images/2025-04-20/17451432...</td>\n",
       "      <td>2025-04-20</td>\n",
       "      <td>1745143200</td>\n",
       "      <td>MC_DHService1</td>\n",
       "    </tr>\n",
       "    <tr>\n",
       "      <th>2</th>\n",
       "      <td>../image_downloader/images/2025-04-20/17451432...</td>\n",
       "      <td>2025-04-20</td>\n",
       "      <td>1745143200</td>\n",
       "      <td>MC_DHService2</td>\n",
       "    </tr>\n",
       "    <tr>\n",
       "      <th>3</th>\n",
       "      <td>../image_downloader/images/2025-04-20/17451432...</td>\n",
       "      <td>2025-04-20</td>\n",
       "      <td>1745143200</td>\n",
       "      <td>MC_DHSmoothies</td>\n",
       "    </tr>\n",
       "    <tr>\n",
       "      <th>4</th>\n",
       "      <td>../image_downloader/images/2025-04-20/17451432...</td>\n",
       "      <td>2025-04-20</td>\n",
       "      <td>1745143200</td>\n",
       "      <td>MC_Exit1</td>\n",
       "    </tr>\n",
       "    <tr>\n",
       "      <th>...</th>\n",
       "      <td>...</td>\n",
       "      <td>...</td>\n",
       "      <td>...</td>\n",
       "      <td>...</td>\n",
       "    </tr>\n",
       "    <tr>\n",
       "      <th>1689291</th>\n",
       "      <td>../image_downloader/images/2025-03-20/17425203...</td>\n",
       "      <td>2025-03-20</td>\n",
       "      <td>1742520304</td>\n",
       "      <td>MC_DHService2</td>\n",
       "    </tr>\n",
       "    <tr>\n",
       "      <th>1689292</th>\n",
       "      <td>../image_downloader/images/2025-03-20/17424744...</td>\n",
       "      <td>2025-03-20</td>\n",
       "      <td>1742474469</td>\n",
       "      <td>NH_DHPOS2</td>\n",
       "    </tr>\n",
       "    <tr>\n",
       "      <th>1689293</th>\n",
       "      <td>../image_downloader/images/2025-03-20/17424943...</td>\n",
       "      <td>2025-03-20</td>\n",
       "      <td>1742494378</td>\n",
       "      <td>MC_Exit1</td>\n",
       "    </tr>\n",
       "    <tr>\n",
       "      <th>1689294</th>\n",
       "      <td>../image_downloader/images/2025-03-20/17424816...</td>\n",
       "      <td>2025-03-20</td>\n",
       "      <td>1742481647</td>\n",
       "      <td>MC_PO</td>\n",
       "    </tr>\n",
       "    <tr>\n",
       "      <th>1689295</th>\n",
       "      <td>../image_downloader/images/2025-03-20/17425103...</td>\n",
       "      <td>2025-03-20</td>\n",
       "      <td>1742510306</td>\n",
       "      <td>MC_PO2</td>\n",
       "    </tr>\n",
       "  </tbody>\n",
       "</table>\n",
       "<p>1689296 rows × 4 columns</p>\n",
       "</div>"
      ],
      "text/plain": [
       "                                                      path date_folder  \\\n",
       "0        ../image_downloader/images/2025-04-20/17451432...  2025-04-20   \n",
       "1        ../image_downloader/images/2025-04-20/17451432...  2025-04-20   \n",
       "2        ../image_downloader/images/2025-04-20/17451432...  2025-04-20   \n",
       "3        ../image_downloader/images/2025-04-20/17451432...  2025-04-20   \n",
       "4        ../image_downloader/images/2025-04-20/17451432...  2025-04-20   \n",
       "...                                                    ...         ...   \n",
       "1689291  ../image_downloader/images/2025-03-20/17425203...  2025-03-20   \n",
       "1689292  ../image_downloader/images/2025-03-20/17424744...  2025-03-20   \n",
       "1689293  ../image_downloader/images/2025-03-20/17424943...  2025-03-20   \n",
       "1689294  ../image_downloader/images/2025-03-20/17424816...  2025-03-20   \n",
       "1689295  ../image_downloader/images/2025-03-20/17425103...  2025-03-20   \n",
       "\n",
       "          timestamp        location  \n",
       "0        1745143200        MC_DHPOS  \n",
       "1        1745143200   MC_DHService1  \n",
       "2        1745143200   MC_DHService2  \n",
       "3        1745143200  MC_DHSmoothies  \n",
       "4        1745143200        MC_Exit1  \n",
       "...             ...             ...  \n",
       "1689291  1742520304   MC_DHService2  \n",
       "1689292  1742474469       NH_DHPOS2  \n",
       "1689293  1742494378        MC_Exit1  \n",
       "1689294  1742481647           MC_PO  \n",
       "1689295  1742510306          MC_PO2  \n",
       "\n",
       "[1689296 rows x 4 columns]"
      ]
     },
     "execution_count": 5,
     "metadata": {},
     "output_type": "execute_result"
    }
   ],
   "source": [
    "df"
   ]
  },
  {
   "cell_type": "code",
   "execution_count": 6,
   "metadata": {},
   "outputs": [
    {
     "data": {
      "text/plain": [
       "array(['2025-04-20', '2025-04-21', '2025-04-22', '2025-04-23',\n",
       "       '2025-04-24', '2025-04-25', '2025-03-19', '2025-05-02',\n",
       "       '2025-04-05', '2025-04-01', '2025-03-21', '2025-05-01',\n",
       "       '2025-04-10', '2025-03-18', '2025-03-17', '2025-04-19',\n",
       "       '2025-04-11', '2025-04-08', '2025-03-29', '2025-04-28',\n",
       "       '2025-04-17', '2025-03-28', '2025-04-14', '2025-04-09',\n",
       "       '2025-03-25', '2025-04-18', '2025-04-30', '2025-04-06',\n",
       "       '2025-03-06', '2025-04-26', '2025-03-30', '2025-03-22',\n",
       "       '2025-03-27', '2025-03-31', '2025-03-26', '2025-03-07',\n",
       "       '2025-04-07', '2025-04-27', '2025-04-16', '2025-04-15',\n",
       "       '2025-04-13', '2025-04-04', '2025-04-12', '2025-04-29',\n",
       "       '2025-03-24', '2025-03-23', '2025-04-02', '2025-04-03',\n",
       "       '2025-03-20'], dtype=object)"
      ]
     },
     "execution_count": 6,
     "metadata": {},
     "output_type": "execute_result"
    }
   ],
   "source": [
    "df['date_folder'].unique()"
   ]
  },
  {
   "cell_type": "code",
   "execution_count": 7,
   "metadata": {},
   "outputs": [],
   "source": [
    "df['image_id'] = df['timestamp'] + '_' + df['location']"
   ]
  },
  {
   "cell_type": "code",
   "execution_count": 8,
   "metadata": {},
   "outputs": [],
   "source": [
    "df.to_csv('image_index.csv', index=False)"
   ]
  }
 ],
 "metadata": {
  "language_info": {
   "name": "python"
  }
 },
 "nbformat": 4,
 "nbformat_minor": 2
}
